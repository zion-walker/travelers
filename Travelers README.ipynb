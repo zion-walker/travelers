{
 "cells": [
  {
   "cell_type": "markdown",
   "id": "interstate-proposal",
   "metadata": {},
   "source": [
    "<img src=\"https://img.shields.io/badge/seqlearn-Travelers-green.svg?logo=LOGO\">\n",
    "<img alt=\"Python\" src=\"https://img.shields.io/badge/python-%2314354C.svg?style=for-the-badge&logo=python&logoColor=white\">\n",
    "<img alt=\"Jupyter\" src=\"https://img.shields.io/badge/Jupyter-%23F37626.svg?style=for-the-badge&logo=Jupyter&logoColor=white\" />"
   ]
  },
  {
   "cell_type": "markdown",
   "id": "progressive-yemen",
   "metadata": {},
   "source": [
    "# Travelers \n",
    "***\n",
    "*are mascots that travel often more memorable than others?*\n",
    "\n",
    "This sub-analysis aims to address whether memory retrieval is influenced by the uniqueness of episodic events. \n",
    "\n",
    "If your friend wears a new vibrant outfit every morning you get coffee together, you may remember those coffee dates more than coffee with your friend that always wears grey. \n",
    "\n",
    "In this study, some mascots are encountered doing new actions in different locations each trial, whereas other mascots videos are very similar across trials. \n",
    "\n",
    "\n",
    "### Overarching Study Description: What is seqlearn?  \n",
    "The present study lead by Dr. Halle Dimsdale-Zucker aims to test whether statistical structure imposed at encoding and reinstated at retrieval can serve as a context to guide memory. We hypothesize that statistical structure facilitates learning, and maintaining statistical regularities at retrieval improves memory performance.\n",
    "\n",
    "\n",
    "I will be determining the memorability of specific mascot videos by comparing the rates of correctly identifying studied videos as “old” vs. incorrectly judging unstudied videos as “old” across participants."
   ]
  },
  {
   "cell_type": "code",
   "execution_count": 17,
   "id": "sufficient-short",
   "metadata": {},
   "outputs": [],
   "source": [
    "import emoji"
   ]
  },
  {
   "cell_type": "code",
   "execution_count": 18,
   "id": "textile-fortune",
   "metadata": {},
   "outputs": [
    {
     "name": "stdout",
     "output_type": "stream",
     "text": [
      "🌴\n"
     ]
    }
   ],
   "source": [
    "print(emoji.emojize(':palm_tree:'))"
   ]
  },
  {
   "cell_type": "markdown",
   "id": "cheap-stanley",
   "metadata": {},
   "source": [
    "## Step-by-Step Guide to Respresenting Mascot Memorability"
   ]
  },
  {
   "cell_type": "markdown",
   "id": "voluntary-regular",
   "metadata": {},
   "source": [
    "* import necessary packages (Pandas, Numpy, Matplotlib, Seaborn)\n",
    "* Load the Dataset into Pandas\n",
    "* Clean the Dataset\n",
    "* Create a new variable with columns only relevant to recognition phase\n",
    "* Create a new variable indexed by video with participant response as column\n",
    "* Determine whether response is a Hit or False Alarm\n",
    "* create an empty column\n",
    "* when studied and sure/maybe/guess old, = HIT in a new column\n",
    "* when lure and sure/maybe/guess new, = HIT in a new column\n",
    "* when studied and sure/maybe/guess new, = False alarm in a new column\n",
    "* when lure and sure/maybe/guess old, = False alarm in a new column\n",
    "* alternatively, could this become a boolean mask where TRUE = hit?\n",
    "\n",
    "Create a function that will repeat this for all mascot videos\n",
    "Calculate the “Hit Rate” per mascot video, make it its own series.\n",
    "determine the number of participant responses per mascot video\n",
    "divide total Hit by total number of responses\n",
    "Create a new df indexed by mascot video w/ columns: HR, phase_id, mascot\n",
    "Visualize this data in a graph... bar graph?\n",
    "Calculate the average HR per mascot\n",
    "Create a new series w/ mascot and respective avg. HR\n",
    "Visualize this data graphically... again by bar graph?\n",
    "Create a Mixed effect model: HR ~ mascot, phase_id"
   ]
  },
  {
   "cell_type": "code",
   "execution_count": null,
   "id": "white-michael",
   "metadata": {},
   "outputs": [],
   "source": []
  }
 ],
 "metadata": {
  "kernelspec": {
   "display_name": "Python 3",
   "language": "python",
   "name": "python3"
  },
  "language_info": {
   "codemirror_mode": {
    "name": "ipython",
    "version": 3
   },
   "file_extension": ".py",
   "mimetype": "text/x-python",
   "name": "python",
   "nbconvert_exporter": "python",
   "pygments_lexer": "ipython3",
   "version": "3.8.8"
  }
 },
 "nbformat": 4,
 "nbformat_minor": 5
}
